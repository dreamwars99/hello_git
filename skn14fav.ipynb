{
 "cells": [
  {
   "metadata": {
    "ExecuteTime": {
     "end_time": "2025-04-28T06:15:31.691197Z",
     "start_time": "2025-04-28T06:15:31.632833Z"
    }
   },
   "cell_type": "code",
   "source": "import mysql.connector",
   "id": "983b05af47edcb2b",
   "outputs": [],
   "execution_count": 1
  },
  {
   "metadata": {
    "ExecuteTime": {
     "end_time": "2025-04-28T06:15:31.705691Z",
     "start_time": "2025-04-28T06:15:31.701580Z"
    }
   },
   "cell_type": "code",
   "source": [
    "config = {\n",
    "    \"host\": \"localhost\",\n",
    "    \"port\": 3306,\n",
    "    \"user\": \"skn14\",\n",
    "    \"password\": \"skn14\",\n",
    "    \"database\": \"users\"\n",
    "}"
   ],
   "id": "9e195a897038bac1",
   "outputs": [],
   "execution_count": 2
  },
  {
   "metadata": {
    "ExecuteTime": {
     "end_time": "2025-04-28T06:15:31.724488Z",
     "start_time": "2025-04-28T06:15:31.720505Z"
    }
   },
   "cell_type": "code",
   "source": [
    "def create_user_fav_table():\n",
    "    try:\n",
    "        with mysql.connector.connect(**config) as conn:\n",
    "            with conn.cursor() as cursor:\n",
    "                cursor.execute('''\n",
    "                    CREATE TABLE IF NOT EXISTS user_fav (\n",
    "                        id INT AUTO_INCREMENT PRIMARY KEY,\n",
    "                        user_id VARCHAR(50) NOT NULL,\n",
    "                        parking_id INT NOT NULL,\n",
    "                        UNIQUE KEY unique_user_parking (user_id, parking_id)\n",
    "                    )\n",
    "                ''')\n",
    "                conn.commit()\n",
    "                print(\"user_fav 테이블 생성\")\n",
    "    except mysql.connector.Error as e:\n",
    "        print(\"테이블 생성 오류:\", e)\n"
   ],
   "id": "a2539d7a73c9c746",
   "outputs": [],
   "execution_count": 3
  },
  {
   "metadata": {
    "ExecuteTime": {
     "end_time": "2025-04-28T06:15:31.896783Z",
     "start_time": "2025-04-28T06:15:31.891972Z"
    }
   },
   "cell_type": "code",
   "source": [
    "def add_to_favorite(user_id, parking_id):\n",
    "    try:\n",
    "        with mysql.connector.connect(**config) as conn:\n",
    "            with conn.cursor() as cursor:\n",
    "                cursor.execute('''\n",
    "                    INSERT INTO user_fav (user_id, parking_id)\n",
    "                    VALUES (%s, %s)\n",
    "                ''', (user_id, parking_id))\n",
    "                conn.commit()\n",
    "                print(\"즐겨찾기 등록\")\n",
    "    except mysql.connector.Error as e:\n",
    "        if e.errno == 1062:  # 중복 에러 (UNIQUE)\n",
    "            print(\"⚠중복된 즐겨찾기\")\n",
    "        else:\n",
    "            print(\"DB 오류:\", e)\n"
   ],
   "id": "b9c5c8a4cee7ec9e",
   "outputs": [],
   "execution_count": 4
  },
  {
   "metadata": {
    "ExecuteTime": {
     "end_time": "2025-04-28T06:15:31.920880Z",
     "start_time": "2025-04-28T06:15:31.917090Z"
    }
   },
   "cell_type": "code",
   "source": [
    "def get_favorite_list(user_id):\n",
    "    try:\n",
    "        with mysql.connector.connect(**config) as conn:\n",
    "            with conn.cursor() as cursor:\n",
    "                cursor.execute('''\n",
    "                    SELECT parking_id\n",
    "                    FROM user_fav\n",
    "                    WHERE user_id = %s\n",
    "                ''', (user_id,))\n",
    "                result = cursor.fetchall()\n",
    "                return [row[0] for row in result]\n",
    "    except mysql.connector.Error as e:\n",
    "        print(\"DB 오류:\", e)\n",
    "        return []\n"
   ],
   "id": "6396128288d8b087",
   "outputs": [],
   "execution_count": 5
  },
  {
   "metadata": {
    "ExecuteTime": {
     "end_time": "2025-04-28T06:15:32.064513Z",
     "start_time": "2025-04-28T06:15:32.051454Z"
    }
   },
   "cell_type": "code",
   "source": [
    "create_user_fav_table()\n",
    "\n",
    "# add_to_favorite('user02', 5)\n",
    "#\n",
    "# favorites = get_favorite_list('user02')\n",
    "# print(\"즐겨찾기한 주차장:\", favorites)"
   ],
   "id": "ae7e484495507259",
   "outputs": [
    {
     "name": "stdout",
     "output_type": "stream",
     "text": [
      "테이블 생성 오류: 1044 (42000): Access denied for user 'skn14'@'%' to database 'users'\n"
     ]
    }
   ],
   "execution_count": 7
  }
 ],
 "metadata": {
  "kernelspec": {
   "display_name": "Python 3",
   "language": "python",
   "name": "python3"
  },
  "language_info": {
   "codemirror_mode": {
    "name": "ipython",
    "version": 2
   },
   "file_extension": ".py",
   "mimetype": "text/x-python",
   "name": "python",
   "nbconvert_exporter": "python",
   "pygments_lexer": "ipython2",
   "version": "2.7.6"
  }
 },
 "nbformat": 4,
 "nbformat_minor": 5
}
